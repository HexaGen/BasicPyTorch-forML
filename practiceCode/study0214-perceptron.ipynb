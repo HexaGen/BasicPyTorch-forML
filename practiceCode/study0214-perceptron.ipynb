{
 "cells": [
  {
   "cell_type": "code",
   "execution_count": 1,
   "metadata": {},
   "outputs": [],
   "source": [
    "import torch\n",
    "import torch.nn as nn\n",
    "import torch.nn.functional as F\n",
    "import torch.optim as optim\n",
    "import numpy as np"
   ]
  },
  {
   "cell_type": "code",
   "execution_count": 21,
   "metadata": {},
   "outputs": [],
   "source": [
    "X = torch.Tensor([[0,0],[0,1],[1,0],[1,1]])\n",
    "Y = torch.Tensor([0,1,1,0]).unsqueeze(1)"
   ]
  },
  {
   "cell_type": "code",
   "execution_count": 22,
   "metadata": {},
   "outputs": [],
   "source": [
    "w1 = torch.Tensor(2,2)\n",
    "b1 = torch.Tensor(2)\n",
    "w2 = torch.Tensor(2,1)\n",
    "b2 = torch.Tensor(1)"
   ]
  },
  {
   "cell_type": "code",
   "execution_count": 23,
   "metadata": {},
   "outputs": [],
   "source": [
    "def sigmoid_gradfn(x:float)->float:\n",
    "    return F.sigmoid(x) * ( 1 - F.sigmoid(x))"
   ]
  },
  {
   "cell_type": "code",
   "execution_count": null,
   "metadata": {},
   "outputs": [],
   "source": [
    "# Train\n",
    "for step in range(1000+1):\n",
    "    l1=X@w1 + b1\n",
    "    a_1=F.sigmoid(l1)\n",
    "    l2 = a_1@w2 + b2\n",
    "    Y_hats = F.sigmoid(l2)\n",
    "\n",
    "    cost = -torch.mean(Y*torch.log(Y_hats) + (1-Y)*torch.log(1-Y_hats))\n",
    "\n",
    "    gradY_hats = (Y_hats - Y) / (Y_hats * (1.0 - Y_hats) + 1e-7)\n",
    "\n",
    "    gradl2 = \n",
    "\n",
    "\n"
   ]
  }
 ],
 "metadata": {
  "kernelspec": {
   "display_name": "base",
   "language": "python",
   "name": "python3"
  },
  "language_info": {
   "codemirror_mode": {
    "name": "ipython",
    "version": 3
   },
   "file_extension": ".py",
   "mimetype": "text/x-python",
   "name": "python",
   "nbconvert_exporter": "python",
   "pygments_lexer": "ipython3",
   "version": "3.9.12"
  },
  "orig_nbformat": 4,
  "vscode": {
   "interpreter": {
    "hash": "55680541b4efa3c556fe3c7675ffe26c0f2da1763dda1c71f0322824134f66b1"
   }
  }
 },
 "nbformat": 4,
 "nbformat_minor": 2
}
